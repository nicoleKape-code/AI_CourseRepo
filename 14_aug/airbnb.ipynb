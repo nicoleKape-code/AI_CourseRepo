{
 "cells": [
  {
   "cell_type": "code",
   "execution_count": 3,
   "metadata": {},
   "outputs": [],
   "source": [
    "import polars as pl"
   ]
  },
  {
   "cell_type": "code",
   "execution_count": 6,
   "metadata": {},
   "outputs": [
    {
     "name": "stdout",
     "output_type": "stream",
     "text": [
      "shape: (26_067, 79)\n",
      "┌───────────┬───────────┬───────────┬───────────┬───┬───────────┬───────────┬───────────┬──────────┐\n",
      "│ id        ┆ listing_u ┆ scrape_id ┆ last_scra ┆ … ┆ calculate ┆ calculate ┆ calculate ┆ reviews_ │\n",
      "│ ---       ┆ rl        ┆ ---       ┆ ped       ┆   ┆ d_host_li ┆ d_host_li ┆ d_host_li ┆ per_mont │\n",
      "│ i64       ┆ ---       ┆ i64       ┆ ---       ┆   ┆ stings_co ┆ stings_co ┆ stings_co ┆ h        │\n",
      "│           ┆ str       ┆           ┆ str       ┆   ┆ unt…      ┆ unt…      ┆ unt…      ┆ ---      │\n",
      "│           ┆           ┆           ┆           ┆   ┆ ---       ┆ ---       ┆ ---       ┆ f64      │\n",
      "│           ┆           ┆           ┆           ┆   ┆ i64       ┆ i64       ┆ i64       ┆          │\n",
      "╞═══════════╪═══════════╪═══════════╪═══════════╪═══╪═══════════╪═══════════╪═══════════╪══════════╡\n",
      "│ 35797     ┆ https://w ┆ 202503191 ┆ 2025-03-2 ┆ … ┆ 1         ┆ 0         ┆ 0         ┆ null     │\n",
      "│           ┆ ww.airbnb ┆ 50644     ┆ 1         ┆   ┆           ┆           ┆           ┆          │\n",
      "│           ┆ .com/room ┆           ┆           ┆   ┆           ┆           ┆           ┆          │\n",
      "│           ┆ s/3…      ┆           ┆           ┆   ┆           ┆           ┆           ┆          │\n",
      "│ 44616     ┆ https://w ┆ 202503191 ┆ 2025-03-2 ┆ … ┆ 4         ┆ 2         ┆ 0         ┆ 0.4      │\n",
      "│           ┆ ww.airbnb ┆ 50644     ┆ 0         ┆   ┆           ┆           ┆           ┆          │\n",
      "│           ┆ .com/room ┆           ┆           ┆   ┆           ┆           ┆           ┆          │\n",
      "│           ┆ s/4…      ┆           ┆           ┆   ┆           ┆           ┆           ┆          │\n",
      "│ 56074     ┆ https://w ┆ 202503191 ┆ 2025-03-2 ┆ … ┆ 1         ┆ 0         ┆ 0         ┆ 0.49     │\n",
      "│           ┆ ww.airbnb ┆ 50644     ┆ 0         ┆   ┆           ┆           ┆           ┆          │\n",
      "│           ┆ .com/room ┆           ┆           ┆   ┆           ┆           ┆           ┆          │\n",
      "│           ┆ s/5…      ┆           ┆           ┆   ┆           ┆           ┆           ┆          │\n",
      "│ 67703     ┆ https://w ┆ 202503191 ┆ 2025-03-2 ┆ … ┆ 2         ┆ 0         ┆ 0         ┆ 0.31     │\n",
      "│           ┆ ww.airbnb ┆ 50644     ┆ 0         ┆   ┆           ┆           ┆           ┆          │\n",
      "│           ┆ .com/room ┆           ┆           ┆   ┆           ┆           ┆           ┆          │\n",
      "│           ┆ s/6…      ┆           ┆           ┆   ┆           ┆           ┆           ┆          │\n",
      "│ 70644     ┆ https://w ┆ 202503191 ┆ 2025-03-2 ┆ … ┆ 2         ┆ 1         ┆ 0         ┆ 0.83     │\n",
      "│           ┆ ww.airbnb ┆ 50644     ┆ 2         ┆   ┆           ┆           ┆           ┆          │\n",
      "│           ┆ .com/room ┆           ┆           ┆   ┆           ┆           ┆           ┆          │\n",
      "│           ┆ s/7…      ┆           ┆           ┆   ┆           ┆           ┆           ┆          │\n",
      "│ …         ┆ …         ┆ …         ┆ …         ┆ … ┆ …         ┆ …         ┆ …         ┆ …        │\n",
      "│ 137932752 ┆ https://w ┆ 202503191 ┆ 2025-03-2 ┆ … ┆ 0         ┆ 4         ┆ 4         ┆ null     │\n",
      "│ 922711394 ┆ ww.airbnb ┆ 50644     ┆ 2         ┆   ┆           ┆           ┆           ┆          │\n",
      "│ 9         ┆ .com/room ┆           ┆           ┆   ┆           ┆           ┆           ┆          │\n",
      "│           ┆ s/1…      ┆           ┆           ┆   ┆           ┆           ┆           ┆          │\n",
      "│ 137933809 ┆ https://w ┆ 202503191 ┆ 2025-03-2 ┆ … ┆ 0         ┆ 1         ┆ 0         ┆ null     │\n",
      "│ 026377336 ┆ ww.airbnb ┆ 50644     ┆ 0         ┆   ┆           ┆           ┆           ┆          │\n",
      "│ 2         ┆ .com/room ┆           ┆           ┆   ┆           ┆           ┆           ┆          │\n",
      "│           ┆ s/1…      ┆           ┆           ┆   ┆           ┆           ┆           ┆          │\n",
      "│ 137978142 ┆ https://w ┆ 202503191 ┆ 2025-03-2 ┆ … ┆ 0         ┆ 2         ┆ 0         ┆ null     │\n",
      "│ 466029169 ┆ ww.airbnb ┆ 50644     ┆ 0         ┆   ┆           ┆           ┆           ┆          │\n",
      "│ 9         ┆ .com/room ┆           ┆           ┆   ┆           ┆           ┆           ┆          │\n",
      "│           ┆ s/1…      ┆           ┆           ┆   ┆           ┆           ┆           ┆          │\n",
      "│ 137980701 ┆ https://w ┆ 202503191 ┆ 2025-03-2 ┆ … ┆ 32        ┆ 0         ┆ 0         ┆ null     │\n",
      "│ 453119121 ┆ ww.airbnb ┆ 50644     ┆ 2         ┆   ┆           ┆           ┆           ┆          │\n",
      "│ 2         ┆ .com/room ┆           ┆           ┆   ┆           ┆           ┆           ┆          │\n",
      "│           ┆ s/1…      ┆           ┆           ┆   ┆           ┆           ┆           ┆          │\n",
      "│ 137981427 ┆ https://w ┆ 202503191 ┆ 2025-03-2 ┆ … ┆ 1         ┆ 0         ┆ 0         ┆ null     │\n",
      "│ 052053442 ┆ ww.airbnb ┆ 50644     ┆ 0         ┆   ┆           ┆           ┆           ┆          │\n",
      "│ 9         ┆ .com/room ┆           ┆           ┆   ┆           ┆           ┆           ┆          │\n",
      "│           ┆ s/1…      ┆           ┆           ┆   ┆           ┆           ┆           ┆          │\n",
      "└───────────┴───────────┴───────────┴───────────┴───┴───────────┴───────────┴───────────┴──────────┘\n"
     ]
    }
   ],
   "source": [
    "df = pl.read_csv(\"listings.csv\")\n",
    "print(df)"
   ]
  },
  {
   "attachments": {},
   "cell_type": "markdown",
   "metadata": {},
   "source": [
    "## Limpieza de columna 'Price'"
   ]
  },
  {
   "cell_type": "code",
   "execution_count": 7,
   "metadata": {},
   "outputs": [
    {
     "name": "stdout",
     "output_type": "stream",
     "text": [
      "Columna 'price limpiada y convertida a tipo nunérico usando Polars\n"
     ]
    }
   ],
   "source": [
    "if not df.is_empty():\n",
    "    df = df.with_columns(\n",
    "        pl.col(\"price\")\n",
    "        .str.replace_all(r\"\\$\",\"\")\n",
    "        .str.replace_all(r\",\",\"\")\n",
    "        .cast(pl.Float64, strict=False)\n",
    "        .alias(\"price\")\n",
    "    ).drop_nulls(\n",
    "        subset = [\"price\"]\n",
    "    ).filter(\n",
    "        pl.col(\"price\") > 0\n",
    "    )\n",
    "    print(\"Columna 'price limpiada y convertida a tipo nunérico usando Polars\")\n"
   ]
  },
  {
   "attachments": {},
   "cell_type": "markdown",
   "metadata": {},
   "source": [
    "## Price Average"
   ]
  },
  {
   "cell_type": "code",
   "execution_count": 10,
   "metadata": {},
   "outputs": [
    {
     "name": "stdout",
     "output_type": "stream",
     "text": [
      "shape: (1, 1)\n",
      "┌─────────────┐\n",
      "│ price       │\n",
      "│ ---         │\n",
      "│ f64         │\n",
      "╞═════════════╡\n",
      "│ 1665.005982 │\n",
      "└─────────────┘\n"
     ]
    }
   ],
   "source": [
    "price_average = df.select(\n",
    "    pl.col(\"price\").mean()\n",
    ")\n",
    "print(price_average)"
   ]
  },
  {
   "attachments": {},
   "cell_type": "markdown",
   "metadata": {},
   "source": [
    "## Most common room"
   ]
  },
  {
   "cell_type": "code",
   "execution_count": 13,
   "metadata": {},
   "outputs": [
    {
     "name": "stdout",
     "output_type": "stream",
     "text": [
      "shape: (1, 2)\n",
      "┌─────────────────────────────────┬───────┐\n",
      "│ name                            ┆ count │\n",
      "│ ---                             ┆ ---   │\n",
      "│ str                             ┆ u32   │\n",
      "╞═════════════════════════════════╪═══════╡\n",
      "│ Blueground | Roma Sur 1 recama… ┆ 54    │\n",
      "└─────────────────────────────────┴───────┘\n"
     ]
    }
   ],
   "source": [
    "ctx = pl.SQLContext(population=df, eager=True)\n",
    "most_common = ctx.execute(\n",
    "        \"\"\"\n",
    "        SELECT name, COUNT(id) AS count\n",
    "        FROM population\n",
    "        GROUP BY name\n",
    "        ORDER BY count DESC\n",
    "        LIMIT 1\n",
    "    \"\"\"\n",
    ")\n",
    "print(most_common)"
   ]
  },
  {
   "attachments": {},
   "cell_type": "markdown",
   "metadata": {},
   "source": [
    "## Top 10 neighborhoods"
   ]
  },
  {
   "cell_type": "code",
   "execution_count": 15,
   "metadata": {},
   "outputs": [
    {
     "name": "stdout",
     "output_type": "stream",
     "text": [
      "shape: (10, 2)\n",
      "┌─────────────────────┬───────┐\n",
      "│ neighborhood        ┆ count │\n",
      "│ ---                 ┆ ---   │\n",
      "│ str                 ┆ u32   │\n",
      "╞═════════════════════╪═══════╡\n",
      "│ Cuauhtémoc          ┆ 10434 │\n",
      "│ Miguel Hidalgo      ┆ 3764  │\n",
      "│ Benito Juárez       ┆ 2482  │\n",
      "│ Coyoacán            ┆ 1362  │\n",
      "│ Álvaro Obregón      ┆ 799   │\n",
      "│ Venustiano Carranza ┆ 752   │\n",
      "│ Tlalpan             ┆ 582   │\n",
      "│ Gustavo A. Madero   ┆ 424   │\n",
      "│ Iztacalco           ┆ 389   │\n",
      "│ Azcapotzalco        ┆ 317   │\n",
      "└─────────────────────┴───────┘\n"
     ]
    }
   ],
   "source": [
    "most_popular_hoods = ctx.execute(\n",
    "        \"\"\"\n",
    "        SELECT neighbourhood_cleansed AS neighborhood, COUNT(id) AS count\n",
    "        FROM population\n",
    "        GROUP BY neighbourhood_cleansed\n",
    "        ORDER BY count DESC\n",
    "        LIMIT 10\n",
    "    \"\"\"\n",
    ")\n",
    "print(most_popular_hoods)"
   ]
  },
  {
   "attachments": {},
   "cell_type": "markdown",
   "metadata": {},
   "source": [
    "## Top 10 hosts"
   ]
  },
  {
   "cell_type": "code",
   "execution_count": 18,
   "metadata": {},
   "outputs": [
    {
     "name": "stdout",
     "output_type": "stream",
     "text": [
      "shape: (10, 2)\n",
      "┌────────────┬───────┐\n",
      "│ host       ┆ count │\n",
      "│ ---        ┆ ---   │\n",
      "│ str        ┆ u32   │\n",
      "╞════════════╪═══════╡\n",
      "│ Alejandra  ┆ 305   │\n",
      "│ Alejandro  ┆ 244   │\n",
      "│ Juan       ┆ 241   │\n",
      "│ Blueground ┆ 225   │\n",
      "│ Raul       ┆ 225   │\n",
      "│ Luis       ┆ 214   │\n",
      "│ Mr. W      ┆ 201   │\n",
      "│ Carlos     ┆ 175   │\n",
      "│ Eduardo    ┆ 173   │\n",
      "│ Jorge      ┆ 172   │\n",
      "└────────────┴───────┘\n"
     ]
    }
   ],
   "source": [
    "most_popular_hosts = ctx.execute(\n",
    "        \"\"\"\n",
    "        SELECT host_name AS host, COUNT(host_id) AS count\n",
    "        FROM population\n",
    "        GROUP BY host_name\n",
    "        ORDER BY count DESC\n",
    "        LIMIT 10\n",
    "    \"\"\"\n",
    ")\n",
    "print(most_popular_hosts)"
   ]
  },
  {
   "attachments": {},
   "cell_type": "markdown",
   "metadata": {},
   "source": [
    "## predicción de precio de un airbnn (si le paso un dato a un modelo, predice el precio, quitando la columna de precio)\n",
    "## scikit learn o tensorflow"
   ]
  },
  {
   "cell_type": "code",
   "execution_count": null,
   "metadata": {},
   "outputs": [],
   "source": []
  }
 ],
 "metadata": {
  "kernelspec": {
   "display_name": "Python 3",
   "language": "python",
   "name": "python3"
  },
  "language_info": {
   "codemirror_mode": {
    "name": "ipython",
    "version": 3
   },
   "file_extension": ".py",
   "mimetype": "text/x-python",
   "name": "python",
   "nbconvert_exporter": "python",
   "pygments_lexer": "ipython3",
   "version": "3.12.7"
  },
  "orig_nbformat": 4
 },
 "nbformat": 4,
 "nbformat_minor": 2
}
