{
 "cells": [
  {
   "cell_type": "code",
   "execution_count": null,
   "metadata": {},
   "outputs": [],
   "source": [
    "import pandas as pd\n",
    "import numpy as np\n",
    "import matplotlib.pyplot as plt\n",
    "import seaborn as sns\n",
    "import requests\n",
    "import io"
   ]
  },
  {
   "cell_type": "code",
   "execution_count": null,
   "metadata": {},
   "outputs": [],
   "source": [
    "csv_file_name = \"2025-01.csv\"\n",
    "df_raw = pd.DataFrame()\n",
    "df_raw = pd.read_csv(csv_file_name)\n",
    "print(\"Tamaño del DataFrame:\")\n",
    "print(df_raw.shape)\n",
    "\n",
    "print(\"\\nPrevisualización del dataFrame: \")\n",
    "display(df_raw.head(50))"
   ]
  },
  {
   "attachments": {},
   "cell_type": "markdown",
   "metadata": {},
   "source": [
    "## Fase 2: Transformación"
   ]
  },
  {
   "cell_type": "code",
   "execution_count": null,
   "metadata": {},
   "outputs": [],
   "source": [
    "print(\"\\n--- FASE 2: TRANSFORMACIÓN ---\")\n",
    "\n",
    "# Hacemos una copia para no modificar el DataFrame original\n",
    "df = df_raw.copy()\n",
    "\n",
    "# --- 2.1 Limpieza de Datos (Cleaning) ---\n",
    "print(\"\\nIniciando limpieza de datos...\")\n",
    "\n",
    "# Mostrar tipos de datos antes de la transformación\n",
    "print(\"\\nTipos de datos antes de la conversión a datetime:\")\n",
    "print(df[['Fecha_Retiro', 'Fecha_Arribo']].dtypes)\n",
    "\n",
    "# Convertir columnas de fecha a formato datetime\n",
    "df['Fecha_Arribo'] = pd.to_datetime(df['Fecha_Arribo'], dayfirst=True, errors='coerce')\n",
    "df['Fecha_Retiro'] = pd.to_datetime(df['Fecha_Retiro'], dayfirst=True, errors='coerce')\n",
    "print(\"\\nColumnas de fecha convertidas a datetime.\")\n",
    "\n",
    "# Mostrar tipos de datos despues de la transformación\n",
    "print(\"\\nTipos de datos despues de la conversión a datetime:\")\n",
    "print(df[['Fecha_Retiro', 'Fecha_Arribo']].dtypes)\n",
    "\n",
    "# Mostrar una previsualización del DataFrame después de la transformación\n",
    "print(\"\\nPrevisualización del DataFrame después de la conversión:\")\n",
    "display(df.head())\n",
    "\n",
    "\n",
    "\n",
    "\n",
    "\n",
    "\n",
    "\n",
    "\n",
    "\n"
   ]
  },
  {
   "attachments": {},
   "cell_type": "markdown",
   "metadata": {},
   "source": [
    "### Checar valores nulos en columnas clave"
   ]
  },
  {
   "cell_type": "code",
   "execution_count": null,
   "metadata": {},
   "outputs": [],
   "source": [
    "# Manejo de Valores Nulos (Imputación)\n",
    "print(f\"Valores nulos en 'Ciclo_Estacion_Retiro': {df['Ciclo_Estacion_Retiro'].isnull().sum()}\")\n",
    "print(f\"Valores nulos en 'Ciclo_EstacionArribo': {df['Ciclo_EstacionArribo'].isnull().sum()}\")\n",
    "print(f\"Valores nulos en 'Bici': {df['Bici'].isnull().sum()}\")\n",
    "print(f\"Valores nulos en 'Fecha_Retiro': {df['Fecha_Retiro'].isnull().sum()}\")\n",
    "print(f\"Valores nulos en 'Hora_Retiro': {df['Hora_Retiro'].isnull().sum()}\")"
   ]
  },
  {
   "cell_type": "code",
   "execution_count": null,
   "metadata": {},
   "outputs": [],
   "source": [
    "print(\"\\nConteo de valores nulos por columna:\")\n",
    "print(df.isnull().sum())"
   ]
  },
  {
   "attachments": {},
   "cell_type": "markdown",
   "metadata": {},
   "source": [
    "## Visualización de variable género"
   ]
  },
  {
   "cell_type": "code",
   "execution_count": null,
   "metadata": {},
   "outputs": [],
   "source": [
    "# Visualizar la distribución de la variable categórica 'genero'\n",
    "print(\"\\nVisualización de la distribución de 'genero':\")\n",
    "\n",
    "# Imprimir la cantidad de cada variable categórica en 'genero'\n",
    "print(\"\\nConteo de viajes por género:\")\n",
    "print(df['Genero_Usuario'].value_counts())\n",
    "\n",
    "plt.figure(figsize=(8, 6))\n",
    "sns.countplot(data=df, x='Genero_Usuario', palette='viridis', hue='Genero_Usuario', legend=False)\n",
    "plt.title('Distribución de Género')\n",
    "plt.xlabel('Género')\n",
    "plt.ylabel('Cantidad de Viajes')\n",
    "plt.show()"
   ]
  },
  {
   "attachments": {},
   "cell_type": "markdown",
   "metadata": {},
   "source": [
    "### Manejo de valores Other en género"
   ]
  },
  {
   "cell_type": "code",
   "execution_count": null,
   "metadata": {},
   "outputs": [],
   "source": [
    "df['Genero_Usuario'] = df['Genero_Usuario'].fillna(\"OTHER\")\n",
    "df['Genero_Usuario'] = df['Genero_Usuario'].replace(['?', 'O'], 'OTHER')\n",
    "df['Genero_Usuario'] = df['Genero_Usuario'].replace(['Otros'], 'OTHER')\n",
    "print(\"Valores nulos en la columna 'genero' imputados con 'OTHER'.\")\n",
    "\n",
    "# Verificar si aún quedan valores nulos en la columna 'genero'\n",
    "print(f\"Valores nulos restantes en 'genero': {df['Genero_Usuario'].isnull().sum()}\")"
   ]
  },
  {
   "cell_type": "code",
   "execution_count": null,
   "metadata": {},
   "outputs": [],
   "source": [
    "print(\"\\nVisualización de la distribución de 'genero':\")\n",
    "\n",
    "# Imprimir la cantidad de cada variable categórica en 'genero'\n",
    "print(\"\\nConteo de viajes por género:\")\n",
    "print(df['Genero_Usuario'].value_counts())\n",
    "\n",
    "plt.figure(figsize=(8, 6))\n",
    "sns.countplot(data=df, x='Genero_Usuario', palette='viridis', hue='Genero_Usuario', legend=False)\n",
    "plt.title('Distribución de Género')\n",
    "plt.xlabel('Género')\n",
    "plt.ylabel('Cantidad de Viajes')\n",
    "plt.show()"
   ]
  },
  {
   "cell_type": "code",
   "execution_count": null,
   "metadata": {},
   "outputs": [],
   "source": [
    "print(\"\\nConteo de viajes por género:\")\n",
    "print(df['Genero_Usuario'].value_counts())"
   ]
  },
  {
   "attachments": {},
   "cell_type": "markdown",
   "metadata": {},
   "source": [
    "## Uso de One-Hot Encoding"
   ]
  },
  {
   "cell_type": "code",
   "execution_count": null,
   "metadata": {},
   "outputs": [],
   "source": [
    "# Aplicar One-Hot Encoding a las columnas 'genero' y 'modelo_bicicleta'\n",
    "df_encoded = pd.get_dummies(df, columns=['Genero_Usuario'], prefix=['Genero'])\n",
    "\n",
    "# Mostrar las primeras filas del DataFrame codificado\n",
    "print(\"\\nDataFrame después de One-Hot Encoding:\")\n",
    "display(df_encoded.head())"
   ]
  },
  {
   "attachments": {},
   "cell_type": "markdown",
   "metadata": {},
   "source": [
    "### Discretización"
   ]
  },
  {
   "attachments": {},
   "cell_type": "markdown",
   "metadata": {},
   "source": [
    "En este caso, no existe una columna per se que se pueda discretizar. Tendríamos que crear una nueva. "
   ]
  },
  {
   "cell_type": "code",
   "execution_count": null,
   "metadata": {},
   "outputs": [],
   "source": [
    "'''\n",
    "print(\"\\nIniciando discretización de 'duracion_recorrido'...\")\n",
    "\n",
    "# Definir los rangos y las etiquetas\n",
    "bins = [0, 1200, 2400, 3600, df['duracion_recorrido'].max()]\n",
    "labels = ['Viaje Corto', 'Viaje Mediano', 'Viaje Largo', 'Viaje Muy Largo (Anomalía)']\n",
    "\n",
    "# Aplicar la discretización\n",
    "df_encoded['categoria_duracion'] = pd.cut(df_encoded['duracion_recorrido'], bins=bins, labels=labels, right=False, include_lowest=True)\n",
    "\n",
    "print(\"Columna 'categoria_duracion' creada.\")\n",
    "\n",
    "# Mostrar el conteo de valores en la nueva columna\n",
    "print(\"\\nConteo de viajes por categoría de duración:\")\n",
    "print(df_encoded['categoria_duracion'].value_counts())\n",
    "\n",
    "# Mostrar las primeras filas con la nueva columna\n",
    "print(\"\\nPrevisualización del DataFrame con la nueva columna:\")\n",
    "display(df_encoded.head())\n",
    "'''"
   ]
  },
  {
   "attachments": {},
   "cell_type": "markdown",
   "metadata": {},
   "source": [
    "### Normalización"
   ]
  },
  {
   "cell_type": "code",
   "execution_count": null,
   "metadata": {},
   "outputs": [],
   "source": [
    "# Aplicar Normalización (Min-Max Scaling) a las columnas numéricas\n",
    "from sklearn.preprocessing import MinMaxScaler\n",
    "\n",
    "scaler = MinMaxScaler()\n",
    "\n",
    "columns_to_normalize = [\n",
    "    \"Edad_Usuario\"\n",
    "]\n",
    "\n",
    "df_encoded[columns_to_normalize] = scaler.fit_transform(df_encoded[columns_to_normalize])\n",
    "\n",
    "print(\"\\nColumnas numéricas normalizadas:\")\n",
    "display(df_encoded.head())"
   ]
  },
  {
   "attachments": {},
   "cell_type": "markdown",
   "metadata": {},
   "source": [
    "En este caso, es más claro ver la edad sin normalización"
   ]
  },
  {
   "cell_type": "code",
   "execution_count": null,
   "metadata": {},
   "outputs": [],
   "source": [
    "df_encoded[columns_to_normalize] = scaler.inverse_transform(df_encoded[columns_to_normalize])\n",
    "\n",
    "print(\"\\nColumnas numéricas después de deshacer la normalización:\")\n",
    "display(df_encoded.head())"
   ]
  },
  {
   "cell_type": "code",
   "execution_count": null,
   "metadata": {},
   "outputs": [],
   "source": [
    "# --- Verificación del DataFrame Transformado ---\n",
    "print(\"\\n--- Vista previa del DataFrame transformado ---\")\n",
    "display(df_encoded.head(20))"
   ]
  },
  {
   "attachments": {},
   "cell_type": "markdown",
   "metadata": {},
   "source": [
    "### Feature Engineering"
   ]
  },
  {
   "cell_type": "code",
   "execution_count": null,
   "metadata": {},
   "outputs": [],
   "source": [
    "# --- Feature Engineering ---\n",
    "print(\"\\nIniciando Feature Engineering...\")\n",
    "# Crear nuevas características a partir de las existentes.\n",
    "\n",
    "# 1. Duración del viaje en minutos\n",
    "df_encoded['duracion_minutos'] = (df_encoded['Fecha_Arribo'] - df_encoded['Fecha_Retiro']).dt.total_seconds() / 60\n",
    "\n",
    "# 2. Día de la semana (0=Lunes, 6=Domingo)\n",
    "df_encoded['dia_semana'] = df_encoded['Fecha_Retiro'].dt.dayofweek\n",
    "\n",
    "# 2.1 Día de la semana (0=Lunes, 6=Domingo)\n",
    "df_encoded['dia_semana_arribo'] = df_encoded['Fecha_Arribo'].dt.dayofweek\n",
    "\n",
    "# 3. Hora del día\n",
    "df_encoded['hora_inicio'] = df_encoded['Fecha_Retiro'].dt.hour\n",
    "\n",
    "# 3.1. Hora del día\n",
    "df_encoded['hora_final'] = df_encoded['Fecha_Arribo'].dt.hour\n",
    "\n",
    "# 4. Categoría de día (Fin de semana vs. Entre semana)\n",
    "df_encoded['tipo_dia'] = df_encoded['dia_semana'].apply(lambda x: 'Fin de Semana' if x >= 5 else 'Entre Semana')"
   ]
  },
  {
   "cell_type": "code",
   "execution_count": null,
   "metadata": {},
   "outputs": [],
   "source": [
    "print(\"Nuevas características creadas: 'duracion_minutos', 'dia_semana', 'hora_inicio', 'tipo_dia'.\")\n",
    "display(df_encoded.head())"
   ]
  },
  {
   "attachments": {},
   "cell_type": "markdown",
   "metadata": {},
   "source": [
    "### Distancia del viaje"
   ]
  },
  {
   "attachments": {},
   "cell_type": "markdown",
   "metadata": {},
   "source": [
    "En este caso, no contamos con los datos para sacar la distancia"
   ]
  },
  {
   "cell_type": "code",
   "execution_count": null,
   "metadata": {},
   "outputs": [],
   "source": [
    "from geopy.distance import geodesic\n",
    "'''\n",
    "def calculate_distance(row):\n",
    "    origin_coords = (row['lat_estacion_origen'], row['long_estacion_origen'])\n",
    "    destination_coords = (row['lat_estacion_destino'], row['long_estacion_destino'])\n",
    "    try:\n",
    "        return geodesic(origin_coords, destination_coords).km\n",
    "    except ValueError:\n",
    "        return np.nan # Handle potential errors with coordinates\n",
    "\n",
    "df_encoded['distancia_viaje'] = df_encoded.apply(calculate_distance, axis=1)\n",
    "\n",
    "print(\"Nuevas características creadas: 'duracion_minutos', 'dia_semana', 'hora_inicio', 'tipo_dia', 'distancia_viaje'.\")\n",
    "'''"
   ]
  },
  {
   "attachments": {},
   "cell_type": "markdown",
   "metadata": {},
   "source": [
    "## Fase 3: Loading"
   ]
  },
  {
   "cell_type": "code",
   "execution_count": null,
   "metadata": {},
   "outputs": [],
   "source": [
    "# =============================================================================\n",
    "# FASE 3: CARGA (Load)\n",
    "# =============================================================================\n",
    "print(\"\\n--- FASE 3: CARGA ---\")\n",
    "\n",
    "if not df_encoded.empty:\n",
    "    # El paso final es cargar nuestros datos limpios y enriquecidos a un nuevo destino.\n",
    "    # Opción 1: Guardar como un nuevo archivo CSV.\n",
    "    try:\n",
    "        df_encoded.to_csv(\"ecobici_limpios.csv\", index=False)\n",
    "        print(\"DataFrame transformado guardado exitosamente en 'ecobici_limpios.csv'\")\n",
    "    except Exception as e:\n",
    "        print(f\"Error al guardar el archivo CSV: {e}\")\n",
    "\n",
    "    # Opción 2 (Recomendada para Big Data): Guardar en formato Parquet.\n",
    "    # Parquet es un formato columnar optimizado para análisis, es más rápido y ocupa menos espacio.\n",
    "    try:\n",
    "        # Necesitarás instalar 'pyarrow' o 'fastparquet': pip install pyarrow\n",
    "        df_encoded.to_parquet(\"ecobici_limpios.parquet\", index=False)\n",
    "        print(\"DataFrame transformado guardado exitosamente en 'ecobici_limpios.parquet'\")\n",
    "    except ImportError:\n",
    "        print(\"\\nPara guardar en formato Parquet, necesitas instalar 'pyarrow'.\")\n",
    "        print(\"Ejecuta: pip install pyarrow\")\n",
    "    except Exception as e:\n",
    "        print(f\"Error al guardar el archivo Parquet: {e}\")"
   ]
  }
 ],
 "metadata": {
  "kernelspec": {
   "display_name": "Python 3",
   "language": "python",
   "name": "python3"
  },
  "language_info": {
   "codemirror_mode": {
    "name": "ipython",
    "version": 3
   },
   "file_extension": ".py",
   "mimetype": "text/x-python",
   "name": "python",
   "nbconvert_exporter": "python",
   "pygments_lexer": "ipython3",
   "version": "3.12.7"
  },
  "orig_nbformat": 4
 },
 "nbformat": 4,
 "nbformat_minor": 2
}
